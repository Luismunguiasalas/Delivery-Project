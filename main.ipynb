{
 "cells": [
  {
   "cell_type": "code",
   "execution_count": null,
   "metadata": {},
   "outputs": [],
   "source": [
    "Class Package:\n",
    "  def __init__(self, id, address, city, state, zipcode, pack_weight, delivery_deadline = \"EOD\", special_instructions = None, status = \"At Hub\"):\n",
    "    self.id = id\n",
    "    self.address = address\n",
    "    self.city = city\n",
    "    self.state = state\n",
    "    self.zipcode = zipcode\n",
    "    self.pack_weight = pack_weight\n",
    "    self.delivery_deadline = delivery_deadline\n",
    "    self.special_instructions = special_instructions\n",
    "    self.en_route_time = None\n",
    "    self.delivered_time = None\n",
    "    self.status = status\n",
    "    \n",
    "    \n",
    "  def update_status(self):\n",
    "    package_status_input = input(\"Enter 'H' - at hub, 'R' - en route, 'D' - delivery: \")\n",
    "    \n",
    "    if package_status_input.lower() == \"h\":\n",
    "      self.status = \"At Hub\"\n",
    "    elif package_status_status.lower() == \"r\":\n",
    "      self.status = \"En Route\"\n",
    "    elif package_status_input.lower() == \"d\":\n",
    "      self.status = \"Delivered\"\n",
    "    else:\n",
    "      print(\"Please enter a valid entry\")\n",
    "      update_status()\n",
    "    \n",
    "  \n",
    "\n",
    "Class Clock:\n",
    "  def __init__(self, time = \"08:00\", ante_or_post_meridiem = \"AM\"  ):\n",
    "    self.time\n",
    "    self.ante_or_post_meridiem = ante_or_post_meridiem \n",
    "    \n",
    "  def update_clock(self, distance_traveled):\n",
    "    mph_speed_of_truck = 18\n",
    "    minutes_in_hour = 60\n",
    "    \n",
    "    length_of_travel_in_minutes = (distance_traveled / mph_speed_of_truck) * minutes_in_hour\n",
    "    \n",
    "    hours = int(self.time[:2])\n",
    "    minutes = int(self.time[:2])\n",
    "    \n",
    "    "
   ]
  },
  {
   "cell_type": "code",
   "execution_count": 3,
   "metadata": {},
   "outputs": [
    {
     "name": "stdout",
     "output_type": "stream",
     "text": [
      "24.0\n"
     ]
    }
   ],
   "source": [
    "ans = 7.2/18\n",
    "print(ans*60)"
   ]
  }
 ],
 "metadata": {
  "kernelspec": {
   "display_name": "Python 3.9.13 ('base')",
   "language": "python",
   "name": "python3"
  },
  "language_info": {
   "codemirror_mode": {
    "name": "ipython",
    "version": 3
   },
   "file_extension": ".py",
   "mimetype": "text/x-python",
   "name": "python",
   "nbconvert_exporter": "python",
   "pygments_lexer": "ipython3",
   "version": "3.9.13"
  },
  "orig_nbformat": 4,
  "vscode": {
   "interpreter": {
    "hash": "396a395ba6441b73ccca50853a8dd4150befde8fb0603dbea50f6daee5ae2950"
   }
  }
 },
 "nbformat": 4,
 "nbformat_minor": 2
}
