{
 "cells": [
  {
   "cell_type": "code",
   "execution_count": null,
   "metadata": {},
   "outputs": [],
   "source": [
    "# class to represent the clock, that drivers will use to keep time as they deliver packages\n",
    "class Clock:\n",
    "  def __init__(self, time = \"08:00\", ante_or_post_meridiem = \"AM\"):\n",
    "    self.time = time\n",
    "    self.ante_or_post_meridiem = ante_or_post_meridiem\n",
    "    self.minutes_in_hour = 60\n",
    "    self.hours_in_a_day = 24\n",
    "    \n",
    "  def get_time(self):\n",
    "    return self.time + \" \" + self.ante_or_post_meridiem_\n",
    "    \n",
    "  def update_clock(self, distance_traveled):\n",
    "    # use this variable to store the mph of truck\n",
    "    mph_speed_of_truck = 18\n",
    "    \n",
    "    # get the slice current time property\n",
    "    current_hours = int(self.time[:2])\n",
    "    current_minutes = int(self.time[3:])\n",
    "    \n",
    "    # calculate time it took to get from point A to point B by using distance_traveled / 18mph * 60\n",
    "    travel_in_minutes = (distance_traveled / mph_speed_of_truck) * self.minutes_in_hour\n",
    "    \n",
    "    # if travel_in_minutes has greater than 55 seconds it will round up to nearest min, or round down if less than .55 seconds\n",
    "    if travel_in_minutes - math.floor(travel_in_minutes) > .55:\n",
    "      travel_in_minutes = math.ceil(travel_in_minutes)\n",
    "    else:\n",
    "      travel_in_minutes = math.floor(travel_in_minutes)\n",
    "    \n",
    "    # add travel_in_minutes to current_minutes clock\n",
    "    current_minutes += travel_in_minutes  \n",
    "      \n",
    "    # if current_minutes >= 60,\n",
    "    if current_minutes >= self.minutes_in_hour:\n",
    "      current_minutes = int(current_minutes % self.minutes_in_hour)  # set current_minutes to remainder using modulo\n",
    "      current_hours += int(current_minutes // self.minutes_in_hour)  # add to current_hours using floor\n",
    "    \n",
    "    # if current_hours >= 13  \n",
    "    if current_hours >= (self.hours_in_a_day // 2) + 1:\n",
    "      \n",
    "      # update from AM to PM, vice versa\n",
    "      if self.ante_or_post_meridiem == \"AM\":\n",
    "        self.ante_or_post_meridiem = \"PM\"\n",
    "      else:\n",
    "        self.ante_or_post_meridiem = \"AM\"\n",
    "      \n",
    "      # if current_hours == 13, then current_hours should = 1. Else, assign current_hours = current_hours % 12\n",
    "      if current_hours == (self.hours_in_a_day // 2) + 1:\n",
    "        current_hours = 1\n",
    "      else:\n",
    "        current_hours = (current_hours % (self.hours_in_a_day // 2))\n",
    "    \n",
    "    # if length = 1, then add additional digit to keep HH:MM format\n",
    "    if len(str(current_hours)) == 1:\n",
    "      current_hours = \"0\"+ str(current_hours)\n",
    "    \n",
    "    # if length = 1, then add additional digit to keep HH:MM format\n",
    "    if len(str(current_minutes)) == 1:\n",
    "      current_minutes = \"0\"+ str(current_minutes)\n",
    "    \n",
    "    # assign recently calculated time to time variable\n",
    "    self.time = current_hours + \":\" + current_minutes\n",
    "    \n",
    "    # call get_time function to return the recently calculated time\n",
    "    self.get_time()\n",
    "\n",
    "# ----------------------------------------------------------------"
   ]
  }
 ],
 "metadata": {
  "kernelspec": {
   "display_name": "Python 3.11.0 64-bit",
   "language": "python",
   "name": "python3"
  },
  "language_info": {
   "name": "python",
   "version": "3.11.0"
  },
  "orig_nbformat": 4,
  "vscode": {
   "interpreter": {
    "hash": "aee8b7b246df8f9039afb4144a1f6fd8d2ca17a180786b69acc140d282b71a49"
   }
  }
 },
 "nbformat": 4,
 "nbformat_minor": 2
}
