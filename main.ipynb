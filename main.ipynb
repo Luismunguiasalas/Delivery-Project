{
 "cells": [
  {
   "cell_type": "code",
   "execution_count": null,
   "metadata": {},
   "outputs": [],
   "source": [
    "Class Package:\n",
    "  def __init__(self, id, address, city, state, zipcode, pack_weight, delivery_deadline = \"EOD\", special_instructions = None, status = \"At Hub\"):\n",
    "    self.id = id\n",
    "    self.address = address\n",
    "    self.city = city\n",
    "    self.state = state\n",
    "    self.zipcode = zipcode\n",
    "    self.pack_weight = pack_weight\n",
    "    self.delivery_deadline = delivery_deadline\n",
    "    self.special_instructions = special_instructions\n",
    "    self.en_route_time = None\n",
    "    self.delivered_time = None\n",
    "    self.status = status\n",
    "    \n",
    "    \n",
    "  def update_status(self):\n",
    "    package_status_input = input(\"Enter 'H' - at hub, 'R' - en route, 'D' - delivery: \")\n",
    "    \n",
    "    if package_status_input.lower() == \"h\":\n",
    "      self.status = \"At Hub\"\n",
    "    elif package_status_status.lower() == \"r\":\n",
    "      self.status = \"En Route\"\n",
    "    elif package_status_input.lower() == \"d\":\n",
    "      self.status = \"Delivered\"\n",
    "    else:\n",
    "      print(\"Please enter a valid entry\")\n",
    "      update_status()\n",
    "    \n",
    "  \n",
    "\n",
    "Class Clock:\n",
    "  def __init__(self, time = \"08:00\", ante_or_post_meridiem = \"AM\"  ):\n",
    "    self.time\n",
    "    self.ante_or_post_meridiem = ante_or_post_meridiem \n",
    "    \n",
    "  def update_clock(self, distance_traveled):\n",
    "    mph_speed_of_truck = 18\n",
    "    minutes_in_hour = 60\n",
    "    \n",
    "    length_of_travel_in_minutes = (distance_traveled / mph_speed_of_truck) * minutes_in_hour\n",
    "    \n",
    "    hours = int(self.time[:2])\n",
    "    minutes = int(self.time[:2])\n",
    "    \n",
    "    "
   ]
  },
  {
   "cell_type": "code",
   "execution_count": null,
   "metadata": {},
   "outputs": [
    {
     "ename": "",
     "evalue": "",
     "output_type": "error",
     "traceback": [
      "\u001b[1;31mJupyter cannot be started. Error attempting to locate Jupyter: Running cells with 'Python 3.11.0 64-bit' requires jupyter and notebook package.\n",
      "\u001b[1;31mRun the following command to install 'jupyter and notebook' into the Python environment. \n",
      "\u001b[1;31mCommand: 'python -m pip install jupyter notebook -U\n",
      "\u001b[1;31mor\n",
      "\u001b[1;31mconda install jupyter notebook -U'\n",
      "\u001b[1;31mClick <a href='https://aka.ms/installJupyterForVSCode'>here</a> for more info."
     ]
    }
   ],
   "source": [
    "ans = 1.2/18\n",
    "print(ans*60)"
   ]
  }
 ],
 "metadata": {
  "kernelspec": {
   "display_name": "Python 3.11.0 64-bit",
   "language": "python",
   "name": "python3"
  },
  "language_info": {
   "name": "python",
   "version": "3.11.0"
  },
  "orig_nbformat": 4,
  "vscode": {
   "interpreter": {
    "hash": "aee8b7b246df8f9039afb4144a1f6fd8d2ca17a180786b69acc140d282b71a49"
   }
  }
 },
 "nbformat": 4,
 "nbformat_minor": 2
}
