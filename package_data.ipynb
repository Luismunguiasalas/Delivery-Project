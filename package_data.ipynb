{
 "cells": [
  {
   "cell_type": "code",
   "execution_count": null,
   "metadata": {},
   "outputs": [],
   "source": [
    "package_data = [[1\t ,'195 W Oakland Ave'\t                       ,'Salt Lake City' \t  ,'UT' ,\t'84115'\t,'10:30 AM'\t  ,21, 'None'],\t\n",
    "                [2\t ,'2530 S 500 E'\t                           ,  'Salt Lake City'  ,'UT' ,\t'84106'\t,'EOD'\t      ,44, 'None'],\t\n",
    "                [3\t ,'233 Canyon Rd'\t                           ,  'Salt Lake City'\t ,'UT' ,\t'84103'\t,'EOD'\t    ,2,  'Can only be on truck 2'],\n",
    "                [4\t ,'380 W 2880 S'                             ,  'Salt Lake City'\t ,'UT' ,\t'84115'\t,'EOD'\t    ,4,  'None'],\t  \n",
    "                [5\t ,'410 S State St'                           ,  'Salt Lake City'\t ,'UT' ,\t'84111'\t,'EOD'\t    ,5,  'None'],\n",
    "                [6\t ,'3060 Lester St'                           ,  'West Valley City' ,'UT' ,\t'84119'\t,'10:30 AM'\t,88, 'Delayed on flight---will not arrive to depot until 9:05 am'],\n",
    "                [7\t ,'1330 2100 S'                              ,  'Salt Lake City'  ,'UT' ,\t'84106'\t,'EOD'\t      ,8,  'None'],\t\n",
    "                [8\t ,'300 State St'                             ,  'Salt Lake City'  ,'UT' ,\t'84103'\t,'EOD'\t      ,9,  'None'],\t\n",
    "                [9\t ,'300 State St'                             ,  'Salt Lake City' ,'UT' ,\t'84103'\t,'EOD'\t      ,2,   'Wrong address listed'],\n",
    "                [10\t ,'600 E 900 South'                          ,'Salt Lake City'   ,'UT' ,\t'84105'\t,'EOD'\t      ,1, 'None'],\t\n",
    "                [11\t ,'2600 Taylorsville Blvd'                   ,'Salt Lake City'   ,'UT' ,\t'84118'\t,'EOD'\t      ,1, 'None'],\t\n",
    "                [12\t ,'3575 W Valley Central Station bus Loop'   ,'West Valley City' ,'UT' ,\t'84119'\t,'EOD'\t      ,1, 'None'],\t\n",
    "                [13\t ,'2010 W 500 S'                             ,'Salt Lake City'   ,'UT' ,\t'84104'\t,'10:30 AM'\t  ,2, 'None'],\t\n",
    "                [14\t ,'4300 S 1300 E'                            ,'Millcreek'\t       ,'UT' ,\t'84117'\t,'10:30 AM'\t  ,88,'Must be delivered with 15, 19'],\n",
    "                [15\t ,'4580 S 2300 E'                            ,'Holladay'\t       ,'UT' ,\t'84117'\t,'9:00 AM'\t  ,4, 'None'],\t\n",
    "                [16\t ,'4580 S 2300 E'                            ,'Holladay'\t       ,'UT' ,\t'84117'\t,'10:30 AM'  \t,88,'Must be delivered with 13, 19'],\n",
    "                [17\t ,'3148 S 1100 W'                            ,'Salt Lake City'   ,'UT' ,\t'84119'\t,'EOD'\t      ,2, 'None'],\t\n",
    "                [18\t ,'1488 4800 S'                              ,'Salt Lake City'   ,'UT' ,\t'84123'\t,'EOD'\t      ,6, 'Can only be on truck 2'],\n",
    "                [19\t ,'177 W Price Ave'                          ,'Salt Lake City'   ,'UT' ,\t'84115'\t,'EOD'\t      ,37,'None'],\t\n",
    "                [20\t ,'3595 Main St'                             ,'Salt Lake City'   ,'UT' ,\t'84115'\t,'10:30 AM'\t  ,37,'Must be delivered with 13, 15'],\n",
    "                [21\t ,'3595 Main St'                             ,'Salt Lake City'   ,'UT' ,\t'84115'\t,'EOD'\t      ,3, 'None'],\t\n",
    "                [22\t ,'6351 South 900 East'                      ,'Murray'\t         ,'UT' ,\t'84121'\t,'EOD'\t      ,2, 'None'],\t\n",
    "                [23\t ,'5100 South 2700 West'                     ,'Salt Lake City'   ,'UT' ,\t'84118'\t,'EOD'\t      ,5, 'None'],\t\n",
    "                [24\t ,'5025 State St'                            ,'Murray'\t         ,'UT' ,\t'84107'\t,'EOD'\t      ,7, 'None'],\t\n",
    "                [25\t ,'5383 South 900 East #104'                 ,'Salt Lake City'   ,'UT' ,\t'84117'\t,'10:30 AM'\t  ,7, 'Delayed on flight---will not arrive to depot until 9:05 am'],\n",
    "                [26\t ,'5383 South 900 East #104'                 ,'Salt Lake City'   ,'UT' ,\t'84117'\t,'EOD'\t      ,25,'None'],\t\n",
    "                [27\t ,'1060 Dalton Ave S'                        ,'Salt Lake City'   ,'UT' ,\t'84104'\t,'EOD'\t      ,5, 'None'],\t\n",
    "                [28\t ,'2835 Main St'                             ,'Salt Lake City'   ,'UT' ,\t'84115'\t,'EOD'\t      ,7, 'Delayed on flight---will not arrive to depot until 9:05 am'],\n",
    "                [29\t ,'1330 2100 S'                              ,'Salt Lake City'   ,'UT' ,\t'84106'\t,'10:30 AM'\t  ,2, 'None'],\t\n",
    "                [30\t ,'300 State St'                             ,'Salt Lake City'\t ,'UT' ,\t'84103'\t,'10:30 AM'\t  ,1, 'None'],\t\n",
    "                [31\t ,'3365 S 900 W'                             ,'Salt Lake City'\t ,'UT' ,\t'84119'\t,'10:30 AM'\t  ,1, 'None'],\t\n",
    "                [32\t ,'3365 S 900 W'                             ,'Salt Lake City'\t ,'UT' ,\t'84119'\t,'EOD'\t      ,1, 'Delayed on flight---will not arrive to depot until 9:05 am'],\n",
    "                [33\t ,'2530 S 500 E'                             ,'Salt Lake City'\t ,'UT' ,\t'84106'\t,'EOD'\t      ,1, 'None'],\t\n",
    "                [34\t ,'4580 S 2300 E'                            ,'Holladay'\t       ,'UT' ,\t'84117'\t,'10:30 AM'\t  ,2, 'None'],\t\n",
    "                [35\t ,'1060 Dalton Ave S'                        ,'Salt Lake City'\t ,'UT' ,\t'84104'\t,'EOD'\t      ,88,'None'],\t\n",
    "                [36\t ,'2300 Parkway Blvd'                        ,'West Valley City' ,'UT' ,\t'84119'\t,'EOD'\t      ,88,'Can only be on truck 2'],\n",
    "                [37\t ,'410 S State St'                           ,'Salt Lake City'\t ,'UT' ,\t'84111'\t,'10:30 AM'\t  ,2, 'None'],\t\n",
    "                [38\t ,'410 S State St'                           ,'Salt Lake City'\t ,'UT' ,\t'84111'\t,'EOD'\t      ,9, 'Can only be on truck 2'],\n",
    "                [39\t ,'2010 W 500 S'                             ,'Salt Lake City'\t ,'UT' ,\t'84104'\t,'EOD'\t      ,9, 'None'],\t\n",
    "                [40\t ,'380 W 2880 S'                             ,'Salt Lake City'\t ,'UT' ,\t'84115'\t,'10:30 AM'\t  ,45,'None']]"
   ]
  }
 ],
 "metadata": {
  "kernelspec": {
   "display_name": "Python 3.11.0 64-bit",
   "language": "python",
   "name": "python3"
  },
  "language_info": {
   "name": "python",
   "version": "3.11.0"
  },
  "orig_nbformat": 4,
  "vscode": {
   "interpreter": {
    "hash": "aee8b7b246df8f9039afb4144a1f6fd8d2ca17a180786b69acc140d282b71a49"
   }
  }
 },
 "nbformat": 4,
 "nbformat_minor": 2
}
